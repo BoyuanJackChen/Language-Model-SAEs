{
 "cells": [
  {
   "cell_type": "code",
   "execution_count": 14,
   "metadata": {},
   "outputs": [],
   "source": [
    "from transformer_lens import HookedTransformer\n",
    "from transformers import AutoModelForCausalLM\n",
    "import torch"
   ]
  },
  {
   "cell_type": "code",
   "execution_count": 3,
   "metadata": {},
   "outputs": [
    {
     "name": "stdout",
     "output_type": "stream",
     "text": [
      "Loaded pretrained model gpt2 into HookedTransformer\n"
     ]
    }
   ],
   "source": [
    "hf_model = AutoModelForCausalLM.from_pretrained('gpt2')\n",
    "model = HookedTransformer.from_pretrained('gpt2', device='cuda:6', hf_model=hf_model)"
   ]
  },
  {
   "cell_type": "code",
   "execution_count": 16,
   "metadata": {},
   "outputs": [
    {
     "name": "stdout",
     "output_type": "stream",
     "text": [
      "[' Leilan', ' サーティワン', 'forth', ' Rebell', 'anthrop', 'advertising', ' Metatron', 'π', ' 神', 'wagen']\n"
     ]
    }
   ],
   "source": [
    "top_negative_ids = [50216, 45545, 25718, 32032, 22178, 34442, 38894, 46582, 47432, 29160]\n",
    "top_negative_tokens = model.to_str_tokens(torch.tensor(top_negative_ids), prepend_bos=False)\n",
    "print(top_negative_tokens)"
   ]
  }
 ],
 "metadata": {
  "kernelspec": {
   "display_name": "wjx",
   "language": "python",
   "name": "python3"
  },
  "language_info": {
   "codemirror_mode": {
    "name": "ipython",
    "version": 3
   },
   "file_extension": ".py",
   "mimetype": "text/x-python",
   "name": "python",
   "nbconvert_exporter": "python",
   "pygments_lexer": "ipython3",
   "version": "3.10.4"
  }
 },
 "nbformat": 4,
 "nbformat_minor": 2
}
